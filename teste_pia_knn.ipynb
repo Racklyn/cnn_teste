{
 "cells": [
  {
   "cell_type": "code",
   "execution_count": 15,
   "metadata": {},
   "outputs": [],
   "source": [
    "import os\n",
    "\n",
    "import numpy as np\n",
    "import pandas as pd\n",
    "\n",
    "import librosa\n",
    "import librosa.display\n",
    "import soundfile as sf # librosa fails when reading files on Kaggle.\n",
    "\n",
    "import matplotlib.pyplot as plt\n",
    "import IPython.display as ipd\n",
    "\n",
    "from sklearn.model_selection import train_test_split\n",
    "from sklearn.preprocessing import StandardScaler\n",
    "from sklearn.decomposition import PCA\n",
    "from sklearn.neighbors import KNeighborsClassifier\n",
    "from sklearn.model_selection import GridSearchCV\n",
    "from sklearn.metrics import confusion_matrix"
   ]
  },
  {
   "cell_type": "code",
   "execution_count": 16,
   "metadata": {},
   "outputs": [],
   "source": [
    "def load_wav_16k_mono(filename):\n",
    "  file_contents = tf.io.read_file(filename)\n",
    "  wav, sample_rate = tf.audio.decode_wav(file_contents, desired_channels=1)\n",
    "  wav = tf.squeeze(wav, axis=-1)\n",
    "  sample_rate = tf.cast(sample_rate, dtype=tf.int64)\n",
    "  wav = tfio.audio.resample(wav, rate_in=sample_rate, rate_out=16000)\n",
    "  return wav"
   ]
  },
  {
   "cell_type": "code",
   "execution_count": 17,
   "metadata": {},
   "outputs": [],
   "source": [
    "PIANO = os.path.join('data', 'pia')\n",
    "GUITAR = os.path.join('data', 'gac')\n",
    "VIOLIN = os.path.join('data', 'vio')"
   ]
  },
  {
   "cell_type": "code",
   "execution_count": 18,
   "metadata": {},
   "outputs": [],
   "source": [
    "# Tensor com caminho dos arquivos\n",
    "# piano = tf.data.Dataset.list_files(PIANO + '/*.wav')\n",
    "# guitar = tf.data.Dataset.list_files(GUITAR + '/*.wav')\n",
    "# violin = tf.data.Dataset.list_files(VIOLIN + '/*.wav')"
   ]
  },
  {
   "cell_type": "code",
   "execution_count": 81,
   "metadata": {},
   "outputs": [],
   "source": [
    "def mean_mfccs(x):\n",
    "    return [np.mean(feature) for feature in librosa.feature.mfcc(y=x)]\n",
    "\n",
    "def parse_audio(x):\n",
    "    return x.flatten('F')[:x.shape[0]] \n",
    "\n",
    "def get_audios_label(path, label):\n",
    "    # train_path = \"../input/train/Train/\"\n",
    "    file_names = os.listdir(path)\n",
    "    #file_names.sort(key=lambda x: int(x.partition('.')[0]))\n",
    "    \n",
    "    samples = []\n",
    "    for file_name in file_names:\n",
    "        # TODO: Deveríamos reduzir a qualidade dos áudios para 16K:\n",
    "        x, sr = sf.read(os.path.join(path, file_name), always_2d=True)\n",
    "        x = parse_audio(x)\n",
    "        samples.append(mean_mfccs(x))\n",
    "        \n",
    "    return np.array(samples), np.full((len(samples)), label)"
   ]
  },
  {
   "cell_type": "code",
   "execution_count": 95,
   "metadata": {},
   "outputs": [],
   "source": [
    "pianos, pianos_lab = get_audios_label(PIANO, 0) \n",
    "guitars, guitars_lab = get_audios_label(GUITAR, 1)\n",
    "violins, violins_lab = get_audios_label(VIOLIN, 2)"
   ]
  },
  {
   "cell_type": "code",
   "execution_count": 96,
   "metadata": {},
   "outputs": [],
   "source": [
    "data = np.concatenate((pianos, guitars, violins))\n",
    "labels = np.concatenate((pianos_lab, guitars_lab, violins_lab))\n",
    "\n",
    "shuffler = np.random.permutation(len(data))\n",
    "\n",
    "X = data[shuffler]\n",
    "Y = labels[shuffler]"
   ]
  },
  {
   "cell_type": "code",
   "execution_count": 97,
   "metadata": {},
   "outputs": [],
   "source": [
    "x_train, x_test, y_train, y_test = train_test_split(X, Y, train_size=0.7)"
   ]
  },
  {
   "cell_type": "code",
   "execution_count": 98,
   "metadata": {},
   "outputs": [
    {
     "name": "stdout",
     "output_type": "stream",
     "text": [
      "Shape: (1356, 20)\n",
      "Observation: \n",
      "[-241.63508536  138.46386254  -41.10277019   26.19139333   -5.937273\n",
      "    9.09176476  -13.17019891    7.32286867  -13.49215399   -5.28453328\n",
      "  -13.10782863   -0.87355979   -3.94783182    6.71187563    1.45589265\n",
      "    2.13836847   -1.33073469   -1.64434215   -7.56497945   -7.77527432]\n",
      "Labels: [2 0 0 0 2]\n"
     ]
    }
   ],
   "source": [
    "print(f'Shape: {x_train.shape}')\n",
    "print(f'Observation: \\n{x_train[0]}')\n",
    "print(f'Labels: {y_train[:5]}')"
   ]
  },
  {
   "cell_type": "markdown",
   "metadata": {},
   "source": [
    "# Treinando modelo"
   ]
  },
  {
   "cell_type": "code",
   "execution_count": 108,
   "metadata": {},
   "outputs": [],
   "source": [
    "grid_params = {\n",
    "    'n_neighbors': [3, 5, 7, 9, 11, 15],\n",
    "    'weights': ['uniform', 'distance'],\n",
    "    'metric': ['euclidean', 'manhattan']\n",
    "}\n",
    "\n",
    "model = GridSearchCV(KNeighborsClassifier(), grid_params, cv=5, n_jobs=-1, scoring='accuracy',)"
   ]
  },
  {
   "cell_type": "code",
   "execution_count": 109,
   "metadata": {},
   "outputs": [
    {
     "data": {
      "text/html": [
       "<style>#sk-container-id-3 {color: black;}#sk-container-id-3 pre{padding: 0;}#sk-container-id-3 div.sk-toggleable {background-color: white;}#sk-container-id-3 label.sk-toggleable__label {cursor: pointer;display: block;width: 100%;margin-bottom: 0;padding: 0.3em;box-sizing: border-box;text-align: center;}#sk-container-id-3 label.sk-toggleable__label-arrow:before {content: \"▸\";float: left;margin-right: 0.25em;color: #696969;}#sk-container-id-3 label.sk-toggleable__label-arrow:hover:before {color: black;}#sk-container-id-3 div.sk-estimator:hover label.sk-toggleable__label-arrow:before {color: black;}#sk-container-id-3 div.sk-toggleable__content {max-height: 0;max-width: 0;overflow: hidden;text-align: left;background-color: #f0f8ff;}#sk-container-id-3 div.sk-toggleable__content pre {margin: 0.2em;color: black;border-radius: 0.25em;background-color: #f0f8ff;}#sk-container-id-3 input.sk-toggleable__control:checked~div.sk-toggleable__content {max-height: 200px;max-width: 100%;overflow: auto;}#sk-container-id-3 input.sk-toggleable__control:checked~label.sk-toggleable__label-arrow:before {content: \"▾\";}#sk-container-id-3 div.sk-estimator input.sk-toggleable__control:checked~label.sk-toggleable__label {background-color: #d4ebff;}#sk-container-id-3 div.sk-label input.sk-toggleable__control:checked~label.sk-toggleable__label {background-color: #d4ebff;}#sk-container-id-3 input.sk-hidden--visually {border: 0;clip: rect(1px 1px 1px 1px);clip: rect(1px, 1px, 1px, 1px);height: 1px;margin: -1px;overflow: hidden;padding: 0;position: absolute;width: 1px;}#sk-container-id-3 div.sk-estimator {font-family: monospace;background-color: #f0f8ff;border: 1px dotted black;border-radius: 0.25em;box-sizing: border-box;margin-bottom: 0.5em;}#sk-container-id-3 div.sk-estimator:hover {background-color: #d4ebff;}#sk-container-id-3 div.sk-parallel-item::after {content: \"\";width: 100%;border-bottom: 1px solid gray;flex-grow: 1;}#sk-container-id-3 div.sk-label:hover label.sk-toggleable__label {background-color: #d4ebff;}#sk-container-id-3 div.sk-serial::before {content: \"\";position: absolute;border-left: 1px solid gray;box-sizing: border-box;top: 0;bottom: 0;left: 50%;z-index: 0;}#sk-container-id-3 div.sk-serial {display: flex;flex-direction: column;align-items: center;background-color: white;padding-right: 0.2em;padding-left: 0.2em;position: relative;}#sk-container-id-3 div.sk-item {position: relative;z-index: 1;}#sk-container-id-3 div.sk-parallel {display: flex;align-items: stretch;justify-content: center;background-color: white;position: relative;}#sk-container-id-3 div.sk-item::before, #sk-container-id-3 div.sk-parallel-item::before {content: \"\";position: absolute;border-left: 1px solid gray;box-sizing: border-box;top: 0;bottom: 0;left: 50%;z-index: -1;}#sk-container-id-3 div.sk-parallel-item {display: flex;flex-direction: column;z-index: 1;position: relative;background-color: white;}#sk-container-id-3 div.sk-parallel-item:first-child::after {align-self: flex-end;width: 50%;}#sk-container-id-3 div.sk-parallel-item:last-child::after {align-self: flex-start;width: 50%;}#sk-container-id-3 div.sk-parallel-item:only-child::after {width: 0;}#sk-container-id-3 div.sk-dashed-wrapped {border: 1px dashed gray;margin: 0 0.4em 0.5em 0.4em;box-sizing: border-box;padding-bottom: 0.4em;background-color: white;}#sk-container-id-3 div.sk-label label {font-family: monospace;font-weight: bold;display: inline-block;line-height: 1.2em;}#sk-container-id-3 div.sk-label-container {text-align: center;}#sk-container-id-3 div.sk-container {/* jupyter's `normalize.less` sets `[hidden] { display: none; }` but bootstrap.min.css set `[hidden] { display: none !important; }` so we also need the `!important` here to be able to override the default hidden behavior on the sphinx rendered scikit-learn.org. See: https://github.com/scikit-learn/scikit-learn/issues/21755 */display: inline-block !important;position: relative;}#sk-container-id-3 div.sk-text-repr-fallback {display: none;}</style><div id=\"sk-container-id-3\" class=\"sk-top-container\"><div class=\"sk-text-repr-fallback\"><pre>GridSearchCV(cv=5, estimator=KNeighborsClassifier(), n_jobs=-1,\n",
       "             param_grid={&#x27;metric&#x27;: [&#x27;euclidean&#x27;, &#x27;manhattan&#x27;],\n",
       "                         &#x27;n_neighbors&#x27;: [3, 5, 7, 9, 11, 15],\n",
       "                         &#x27;weights&#x27;: [&#x27;uniform&#x27;, &#x27;distance&#x27;]},\n",
       "             scoring=&#x27;accuracy&#x27;)</pre><b>In a Jupyter environment, please rerun this cell to show the HTML representation or trust the notebook. <br />On GitHub, the HTML representation is unable to render, please try loading this page with nbviewer.org.</b></div><div class=\"sk-container\" hidden><div class=\"sk-item sk-dashed-wrapped\"><div class=\"sk-label-container\"><div class=\"sk-label sk-toggleable\"><input class=\"sk-toggleable__control sk-hidden--visually\" id=\"sk-estimator-id-7\" type=\"checkbox\" ><label for=\"sk-estimator-id-7\" class=\"sk-toggleable__label sk-toggleable__label-arrow\">GridSearchCV</label><div class=\"sk-toggleable__content\"><pre>GridSearchCV(cv=5, estimator=KNeighborsClassifier(), n_jobs=-1,\n",
       "             param_grid={&#x27;metric&#x27;: [&#x27;euclidean&#x27;, &#x27;manhattan&#x27;],\n",
       "                         &#x27;n_neighbors&#x27;: [3, 5, 7, 9, 11, 15],\n",
       "                         &#x27;weights&#x27;: [&#x27;uniform&#x27;, &#x27;distance&#x27;]},\n",
       "             scoring=&#x27;accuracy&#x27;)</pre></div></div></div><div class=\"sk-parallel\"><div class=\"sk-parallel-item\"><div class=\"sk-item\"><div class=\"sk-label-container\"><div class=\"sk-label sk-toggleable\"><input class=\"sk-toggleable__control sk-hidden--visually\" id=\"sk-estimator-id-8\" type=\"checkbox\" ><label for=\"sk-estimator-id-8\" class=\"sk-toggleable__label sk-toggleable__label-arrow\">estimator: KNeighborsClassifier</label><div class=\"sk-toggleable__content\"><pre>KNeighborsClassifier()</pre></div></div></div><div class=\"sk-serial\"><div class=\"sk-item\"><div class=\"sk-estimator sk-toggleable\"><input class=\"sk-toggleable__control sk-hidden--visually\" id=\"sk-estimator-id-9\" type=\"checkbox\" ><label for=\"sk-estimator-id-9\" class=\"sk-toggleable__label sk-toggleable__label-arrow\">KNeighborsClassifier</label><div class=\"sk-toggleable__content\"><pre>KNeighborsClassifier()</pre></div></div></div></div></div></div></div></div></div></div>"
      ],
      "text/plain": [
       "GridSearchCV(cv=5, estimator=KNeighborsClassifier(), n_jobs=-1,\n",
       "             param_grid={'metric': ['euclidean', 'manhattan'],\n",
       "                         'n_neighbors': [3, 5, 7, 9, 11, 15],\n",
       "                         'weights': ['uniform', 'distance']},\n",
       "             scoring='accuracy')"
      ]
     },
     "execution_count": 109,
     "metadata": {},
     "output_type": "execute_result"
    }
   ],
   "source": [
    "model.fit(x_train, y_train)"
   ]
  },
  {
   "cell_type": "code",
   "execution_count": 111,
   "metadata": {},
   "outputs": [
    {
     "name": "stdout",
     "output_type": "stream",
     "text": [
      "Model Score: 0.7903780068728522\n"
     ]
    }
   ],
   "source": [
    "print(f'Model Score: {model.score(x_test, y_test)}')"
   ]
  },
  {
   "cell_type": "code",
   "execution_count": 104,
   "metadata": {},
   "outputs": [
    {
     "data": {
      "text/plain": [
       "{'mean_fit_time': array([0.00209656, 0.00228958, 0.00182757, 0.0013422 , 0.0015801 ,\n",
       "        0.00159693, 0.00178347, 0.00125465, 0.00218801, 0.00142412,\n",
       "        0.00150719, 0.00204816, 0.00131269, 0.00214725, 0.0009686 ,\n",
       "        0.00097332, 0.00130324, 0.00123634, 0.00103736, 0.00147877,\n",
       "        0.00127392, 0.00118632, 0.00097933, 0.00106673]),\n",
       " 'std_fit_time': array([0.00116387, 0.00058129, 0.00056622, 0.00038064, 0.00030762,\n",
       "        0.00080076, 0.00060278, 0.00010886, 0.00110039, 0.00020395,\n",
       "        0.00029365, 0.00172629, 0.00044959, 0.00125649, 0.0001116 ,\n",
       "        0.00015523, 0.00036108, 0.00038557, 0.00020223, 0.00094211,\n",
       "        0.00049102, 0.00055408, 0.00019701, 0.00018176]),\n",
       " 'mean_score_time': array([0.05272512, 0.02821617, 0.02619371, 0.006213  , 0.02083135,\n",
       "        0.00731874, 0.02183514, 0.00747447, 0.02392168, 0.00970402,\n",
       "        0.02327738, 0.0096137 , 0.01420784, 0.01859841, 0.01633019,\n",
       "        0.01677504, 0.01818972, 0.01867242, 0.01856198, 0.01660175,\n",
       "        0.02055707, 0.01691189, 0.01490059, 0.01571336]),\n",
       " 'std_score_time': array([0.00920976, 0.01778953, 0.00406776, 0.00074319, 0.00209067,\n",
       "        0.00219466, 0.00380067, 0.00181459, 0.002687  , 0.00235974,\n",
       "        0.00204925, 0.00182489, 0.00165361, 0.00128979, 0.00293211,\n",
       "        0.00191519, 0.00368034, 0.0067312 , 0.00240312, 0.00087909,\n",
       "        0.00696015, 0.00300901, 0.00096154, 0.0012298 ]),\n",
       " 'param_metric': masked_array(data=['euclidean', 'euclidean', 'euclidean', 'euclidean',\n",
       "                    'euclidean', 'euclidean', 'euclidean', 'euclidean',\n",
       "                    'euclidean', 'euclidean', 'euclidean', 'euclidean',\n",
       "                    'manhattan', 'manhattan', 'manhattan', 'manhattan',\n",
       "                    'manhattan', 'manhattan', 'manhattan', 'manhattan',\n",
       "                    'manhattan', 'manhattan', 'manhattan', 'manhattan'],\n",
       "              mask=[False, False, False, False, False, False, False, False,\n",
       "                    False, False, False, False, False, False, False, False,\n",
       "                    False, False, False, False, False, False, False, False],\n",
       "        fill_value='?',\n",
       "             dtype=object),\n",
       " 'param_n_neighbors': masked_array(data=[3, 3, 5, 5, 7, 7, 9, 9, 11, 11, 15, 15, 3, 3, 5, 5, 7,\n",
       "                    7, 9, 9, 11, 11, 15, 15],\n",
       "              mask=[False, False, False, False, False, False, False, False,\n",
       "                    False, False, False, False, False, False, False, False,\n",
       "                    False, False, False, False, False, False, False, False],\n",
       "        fill_value='?',\n",
       "             dtype=object),\n",
       " 'param_weights': masked_array(data=['uniform', 'distance', 'uniform', 'distance',\n",
       "                    'uniform', 'distance', 'uniform', 'distance',\n",
       "                    'uniform', 'distance', 'uniform', 'distance',\n",
       "                    'uniform', 'distance', 'uniform', 'distance',\n",
       "                    'uniform', 'distance', 'uniform', 'distance',\n",
       "                    'uniform', 'distance', 'uniform', 'distance'],\n",
       "              mask=[False, False, False, False, False, False, False, False,\n",
       "                    False, False, False, False, False, False, False, False,\n",
       "                    False, False, False, False, False, False, False, False],\n",
       "        fill_value='?',\n",
       "             dtype=object),\n",
       " 'params': [{'metric': 'euclidean', 'n_neighbors': 3, 'weights': 'uniform'},\n",
       "  {'metric': 'euclidean', 'n_neighbors': 3, 'weights': 'distance'},\n",
       "  {'metric': 'euclidean', 'n_neighbors': 5, 'weights': 'uniform'},\n",
       "  {'metric': 'euclidean', 'n_neighbors': 5, 'weights': 'distance'},\n",
       "  {'metric': 'euclidean', 'n_neighbors': 7, 'weights': 'uniform'},\n",
       "  {'metric': 'euclidean', 'n_neighbors': 7, 'weights': 'distance'},\n",
       "  {'metric': 'euclidean', 'n_neighbors': 9, 'weights': 'uniform'},\n",
       "  {'metric': 'euclidean', 'n_neighbors': 9, 'weights': 'distance'},\n",
       "  {'metric': 'euclidean', 'n_neighbors': 11, 'weights': 'uniform'},\n",
       "  {'metric': 'euclidean', 'n_neighbors': 11, 'weights': 'distance'},\n",
       "  {'metric': 'euclidean', 'n_neighbors': 15, 'weights': 'uniform'},\n",
       "  {'metric': 'euclidean', 'n_neighbors': 15, 'weights': 'distance'},\n",
       "  {'metric': 'manhattan', 'n_neighbors': 3, 'weights': 'uniform'},\n",
       "  {'metric': 'manhattan', 'n_neighbors': 3, 'weights': 'distance'},\n",
       "  {'metric': 'manhattan', 'n_neighbors': 5, 'weights': 'uniform'},\n",
       "  {'metric': 'manhattan', 'n_neighbors': 5, 'weights': 'distance'},\n",
       "  {'metric': 'manhattan', 'n_neighbors': 7, 'weights': 'uniform'},\n",
       "  {'metric': 'manhattan', 'n_neighbors': 7, 'weights': 'distance'},\n",
       "  {'metric': 'manhattan', 'n_neighbors': 9, 'weights': 'uniform'},\n",
       "  {'metric': 'manhattan', 'n_neighbors': 9, 'weights': 'distance'},\n",
       "  {'metric': 'manhattan', 'n_neighbors': 11, 'weights': 'uniform'},\n",
       "  {'metric': 'manhattan', 'n_neighbors': 11, 'weights': 'distance'},\n",
       "  {'metric': 'manhattan', 'n_neighbors': 15, 'weights': 'uniform'},\n",
       "  {'metric': 'manhattan', 'n_neighbors': 15, 'weights': 'distance'}],\n",
       " 'split0_test_score': array([0.72058824, 0.73161765, 0.64338235, 0.71323529, 0.625     ,\n",
       "        0.67279412, 0.62132353, 0.69852941, 0.65441176, 0.69485294,\n",
       "        0.64705882, 0.68382353, 0.70588235, 0.76102941, 0.65808824,\n",
       "        0.71691176, 0.65441176, 0.6875    , 0.63970588, 0.71323529,\n",
       "        0.64705882, 0.71323529, 0.65073529, 0.71323529]),\n",
       " 'split1_test_score': array([0.71586716, 0.75645756, 0.70110701, 0.77859779, 0.72324723,\n",
       "        0.79335793, 0.70479705, 0.76383764, 0.69741697, 0.73431734,\n",
       "        0.66789668, 0.73062731, 0.73431734, 0.78228782, 0.70479705,\n",
       "        0.77121771, 0.69372694, 0.73800738, 0.68265683, 0.74538745,\n",
       "        0.67158672, 0.74169742, 0.69741697, 0.74907749]),\n",
       " 'split2_test_score': array([0.6900369 , 0.73062731, 0.68634686, 0.73062731, 0.69741697,\n",
       "        0.72324723, 0.66789668, 0.71217712, 0.66789668, 0.70110701,\n",
       "        0.63468635, 0.67158672, 0.73800738, 0.7601476 , 0.72324723,\n",
       "        0.74907749, 0.71586716, 0.75645756, 0.70848708, 0.74538745,\n",
       "        0.70848708, 0.73062731, 0.6900369 , 0.73062731]),\n",
       " 'split3_test_score': array([0.67527675, 0.73062731, 0.68265683, 0.73062731, 0.65682657,\n",
       "        0.70848708, 0.64206642, 0.70479705, 0.63099631, 0.69372694,\n",
       "        0.62730627, 0.67896679, 0.73431734, 0.78597786, 0.70110701,\n",
       "        0.74907749, 0.66789668, 0.73062731, 0.66420664, 0.72693727,\n",
       "        0.63099631, 0.70110701, 0.66051661, 0.69372694]),\n",
       " 'split4_test_score': array([0.65313653, 0.67896679, 0.64944649, 0.67896679, 0.63099631,\n",
       "        0.65313653, 0.64944649, 0.66420664, 0.63099631, 0.64944649,\n",
       "        0.62730627, 0.65682657, 0.68634686, 0.71586716, 0.65313653,\n",
       "        0.68634686, 0.63837638, 0.67158672, 0.64206642, 0.6900369 ,\n",
       "        0.66789668, 0.6900369 , 0.66051661, 0.6900369 ]),\n",
       " 'mean_test_score': array([0.69098112, 0.72565932, 0.67258791, 0.7264109 , 0.66669742,\n",
       "        0.71020458, 0.65710603, 0.70870957, 0.65634361, 0.69469015,\n",
       "        0.64085088, 0.68436618, 0.71977426, 0.76106197, 0.68807521,\n",
       "        0.73452626, 0.67405578, 0.71683579, 0.66742457, 0.72419687,\n",
       "        0.66520512, 0.71534079, 0.67184448, 0.71534079]),\n",
       " 'std_test_score': array([0.0252017 , 0.02535187, 0.02232721, 0.03219804, 0.03808477,\n",
       "        0.0484641 , 0.02812869, 0.03209543, 0.02493671, 0.0270534 ,\n",
       "        0.01532924, 0.02486477, 0.02032646, 0.02495895, 0.02759148,\n",
       "        0.02966905, 0.02768388, 0.03198873, 0.02584519, 0.02094111,\n",
       "        0.02615656, 0.018845  , 0.0183693 , 0.02228776]),\n",
       " 'rank_test_score': array([13,  4, 17,  3, 20, 10, 22, 11, 23, 12, 24, 15,  6,  1, 14,  2, 16,\n",
       "         7, 19,  5, 21,  8, 18,  8], dtype=int32)}"
      ]
     },
     "execution_count": 104,
     "metadata": {},
     "output_type": "execute_result"
    }
   ],
   "source": [
    "model.cv_results_"
   ]
  }
 ],
 "metadata": {
  "kernelspec": {
   "display_name": "Python 3",
   "language": "python",
   "name": "python3"
  },
  "language_info": {
   "codemirror_mode": {
    "name": "ipython",
    "version": 3
   },
   "file_extension": ".py",
   "mimetype": "text/x-python",
   "name": "python",
   "nbconvert_exporter": "python",
   "pygments_lexer": "ipython3",
   "version": "3.10.6"
  },
  "orig_nbformat": 4
 },
 "nbformat": 4,
 "nbformat_minor": 2
}
